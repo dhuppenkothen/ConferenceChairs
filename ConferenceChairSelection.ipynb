{
 "cells": [
  {
   "cell_type": "markdown",
   "metadata": {},
   "source": [
    "## Chair Selection for a Conference\n",
    "\n",
    "Some very simple code to help automate the chair selection for the AAS meeting.\n",
    "\n",
    "This assumes that the information about all potential chairs is compiled in a single spread sheet which has columns describing the name, but more importantly the area of expertise and the session date and time where they give a talk as in the example in the `data` folder.\n",
    "\n",
    "#### Requirements\n",
    "* python 2.7 or 3.5\n",
    "* numpy\n",
    "* pandas\n",
    "\n"
   ]
  },
  {
   "cell_type": "code",
   "execution_count": 1,
   "metadata": {
    "collapsed": true
   },
   "outputs": [],
   "source": [
    "import numpy as np\n",
    "import pandas as pd"
   ]
  },
  {
   "cell_type": "markdown",
   "metadata": {},
   "source": [
    "Let's make some example data. That also requires the package `names`, so if you don't have it, or don't want to install it, then ignore the following section and go to `Selecting a Chair for a Session` below.\n",
    "\n",
    "We're going to generate 100 names and then define some areas of expertise as well as some sessions for each of them."
   ]
  },
  {
   "cell_type": "code",
   "execution_count": 5,
   "metadata": {
    "collapsed": true
   },
   "outputs": [],
   "source": [
    "import names"
   ]
  },
  {
   "cell_type": "code",
   "execution_count": 10,
   "metadata": {
    "collapsed": false
   },
   "outputs": [],
   "source": [
    "last_names = np.array([names.get_last_name() for i in xrange(100)])\n",
    "first_names = np.array([names.get_first_name() for i in xrange(100)])\n"
   ]
  },
  {
   "cell_type": "code",
   "execution_count": 11,
   "metadata": {
    "collapsed": false
   },
   "outputs": [],
   "source": [
    "## Set up areas of expertise for all of them\n",
    "expertises = [\"Stars\", \"Galaxies\", \"Black Holes\", \"Neutron Stars\", \n",
    "             \"Planets\", \"Cosmology\", \"Gas and Dust\", \"Aliens\", \"Education\"]\n",
    "\n",
    "area_of_expertise_1 = np.random.choice(expertises, size=last_names.shape[0])\n",
    "area_of_expertise_2 = np.random.choice(expertises, size=last_names.shape[0])\n",
    "area_of_expertise_3 = np.random.choice(expertises, size=last_names.shape[0])\n"
   ]
  },
  {
   "cell_type": "code",
   "execution_count": 15,
   "metadata": {
    "collapsed": true
   },
   "outputs": [],
   "source": [
    "## set up session dates and times\n",
    "dates = [\"10/04/2015\", \"10/05/2015\", \"10/06/2015\"]\n",
    "start_times = [\"9:00:00 AM\", \"11:00:00 AM\", \"2:00:00 PM\"]\n",
    "end_times = [\"10:30:00 PM\", \"12:30:00 PM\", \"3:30:00 PM\"]\n",
    "\n",
    "session_date = np.random.choice(dates, size=last_names.shape[0])\n",
    "session_start = np.random.choice(start_times, size=last_names.shape[0])\n",
    "session_end = np.random.choice(end_times, size=last_names.shape[0])\n"
   ]
  },
  {
   "cell_type": "markdown",
   "metadata": {},
   "source": [
    "Now we can set up a DataFrame:"
   ]
  },
  {
   "cell_type": "code",
   "execution_count": 16,
   "metadata": {
    "collapsed": false
   },
   "outputs": [],
   "source": [
    "df_dict = {\"last_name\":last_names,\n",
    "          \"first_name\":first_names,\n",
    "          \"area_of_expertise_1\":area_of_expertise_1,\n",
    "          \"area_of_expertise_2\":area_of_expertise_2,\n",
    "          \"area_of_expertise_3\":area_of_expertise_3,\n",
    "          \"session_date\":session_date,\n",
    "          \"session_start\":session_start,\n",
    "          \"session_end\": session_end\n",
    "          }\n",
    "\n",
    "df = pd.DataFrame(df_dict)"
   ]
  },
  {
   "cell_type": "code",
   "execution_count": 17,
   "metadata": {
    "collapsed": false
   },
   "outputs": [
    {
     "data": {
      "text/html": [
       "<div>\n",
       "<table border=\"1\" class=\"dataframe\">\n",
       "  <thead>\n",
       "    <tr style=\"text-align: right;\">\n",
       "      <th></th>\n",
       "      <th>area_of_expertise_1</th>\n",
       "      <th>area_of_expertise_2</th>\n",
       "      <th>area_of_expertise_3</th>\n",
       "      <th>first_name</th>\n",
       "      <th>last_name</th>\n",
       "      <th>session_date</th>\n",
       "      <th>session_end</th>\n",
       "      <th>session_start</th>\n",
       "    </tr>\n",
       "  </thead>\n",
       "  <tbody>\n",
       "    <tr>\n",
       "      <th>0</th>\n",
       "      <td>Gas and Dust</td>\n",
       "      <td>Neutron Stars</td>\n",
       "      <td>Stars</td>\n",
       "      <td>Alan</td>\n",
       "      <td>Pierce</td>\n",
       "      <td>10/04/2015</td>\n",
       "      <td>10:30:00 PM</td>\n",
       "      <td>9:00:00 AM</td>\n",
       "    </tr>\n",
       "    <tr>\n",
       "      <th>1</th>\n",
       "      <td>Aliens</td>\n",
       "      <td>Stars</td>\n",
       "      <td>Planets</td>\n",
       "      <td>Thomas</td>\n",
       "      <td>Viveiros</td>\n",
       "      <td>10/05/2015</td>\n",
       "      <td>3:30:00 PM</td>\n",
       "      <td>11:00:00 AM</td>\n",
       "    </tr>\n",
       "    <tr>\n",
       "      <th>2</th>\n",
       "      <td>Cosmology</td>\n",
       "      <td>Neutron Stars</td>\n",
       "      <td>Black Holes</td>\n",
       "      <td>Anna</td>\n",
       "      <td>Stafford</td>\n",
       "      <td>10/04/2015</td>\n",
       "      <td>3:30:00 PM</td>\n",
       "      <td>2:00:00 PM</td>\n",
       "    </tr>\n",
       "    <tr>\n",
       "      <th>3</th>\n",
       "      <td>Aliens</td>\n",
       "      <td>Planets</td>\n",
       "      <td>Black Holes</td>\n",
       "      <td>Edward</td>\n",
       "      <td>Cook</td>\n",
       "      <td>10/05/2015</td>\n",
       "      <td>3:30:00 PM</td>\n",
       "      <td>11:00:00 AM</td>\n",
       "    </tr>\n",
       "    <tr>\n",
       "      <th>4</th>\n",
       "      <td>Neutron Stars</td>\n",
       "      <td>Cosmology</td>\n",
       "      <td>Gas and Dust</td>\n",
       "      <td>Addie</td>\n",
       "      <td>Levine</td>\n",
       "      <td>10/06/2015</td>\n",
       "      <td>12:30:00 PM</td>\n",
       "      <td>9:00:00 AM</td>\n",
       "    </tr>\n",
       "  </tbody>\n",
       "</table>\n",
       "</div>"
      ],
      "text/plain": [
       "  area_of_expertise_1 area_of_expertise_2 area_of_expertise_3 first_name  \\\n",
       "0        Gas and Dust       Neutron Stars               Stars       Alan   \n",
       "1              Aliens               Stars             Planets     Thomas   \n",
       "2           Cosmology       Neutron Stars         Black Holes       Anna   \n",
       "3              Aliens             Planets         Black Holes     Edward   \n",
       "4       Neutron Stars           Cosmology        Gas and Dust      Addie   \n",
       "\n",
       "  last_name session_date  session_end session_start  \n",
       "0    Pierce   10/04/2015  10:30:00 PM    9:00:00 AM  \n",
       "1  Viveiros   10/05/2015   3:30:00 PM   11:00:00 AM  \n",
       "2  Stafford   10/04/2015   3:30:00 PM    2:00:00 PM  \n",
       "3      Cook   10/05/2015   3:30:00 PM   11:00:00 AM  \n",
       "4    Levine   10/06/2015  12:30:00 PM    9:00:00 AM  "
      ]
     },
     "execution_count": 17,
     "metadata": {},
     "output_type": "execute_result"
    }
   ],
   "source": [
    "df.head()"
   ]
  },
  {
   "cell_type": "markdown",
   "metadata": {},
   "source": [
    "Let's dump this into a `.csv` file for future use:"
   ]
  },
  {
   "cell_type": "code",
   "execution_count": null,
   "metadata": {
    "collapsed": true
   },
   "outputs": [],
   "source": []
  }
 ],
 "metadata": {
  "kernelspec": {
   "display_name": "Python 2",
   "language": "python",
   "name": "python2"
  },
  "language_info": {
   "codemirror_mode": {
    "name": "ipython",
    "version": 2
   },
   "file_extension": ".py",
   "mimetype": "text/x-python",
   "name": "python",
   "nbconvert_exporter": "python",
   "pygments_lexer": "ipython2",
   "version": "2.7.10"
  }
 },
 "nbformat": 4,
 "nbformat_minor": 0
}
