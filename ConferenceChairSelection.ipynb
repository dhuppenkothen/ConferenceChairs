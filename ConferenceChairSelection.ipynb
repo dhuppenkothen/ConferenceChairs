{
 "cells": [
  {
   "cell_type": "markdown",
   "metadata": {},
   "source": [
    "## Chair Selection for a Conference\n",
    "\n",
    "Some very simple code to help automate the chair selection for the AAS meeting.\n",
    "\n",
    "This assumes that the information about all potential chairs is compiled in a single spread sheet which has columns describing the name, but more importantly the area of expertise and the session date and time where they give a talk as in the example in the `data` folder.\n",
    "\n",
    "#### Requirements\n",
    "* python 2.7 or 3.5\n",
    "* numpy\n",
    "* pandas\n",
    "\n"
   ]
  },
  {
   "cell_type": "code",
   "execution_count": 1,
   "metadata": {
    "collapsed": true
   },
   "outputs": [],
   "source": [
    "import numpy as np\n",
    "import pandas as pd"
   ]
  },
  {
   "cell_type": "markdown",
   "metadata": {},
   "source": [
    "Let's make some example data. That also requires the package `names`, so if you don't have it, or don't want to install it, then ignore the following section and go to `Selecting a Chair for a Session` below.\n",
    "\n",
    "We're going to generate 100 names and then define some areas of expertise as well as some sessions for each of them."
   ]
  },
  {
   "cell_type": "code",
   "execution_count": 5,
   "metadata": {
    "collapsed": true
   },
   "outputs": [],
   "source": [
    "import names"
   ]
  },
  {
   "cell_type": "code",
   "execution_count": 10,
   "metadata": {
    "collapsed": false
   },
   "outputs": [],
   "source": [
    "last_names = np.array([names.get_last_name() for i in xrange(100)])\n",
    "first_names = np.array([names.get_first_name() for i in xrange(100)])\n"
   ]
  },
  {
   "cell_type": "code",
   "execution_count": 11,
   "metadata": {
    "collapsed": false
   },
   "outputs": [],
   "source": [
    "## Set up areas of expertise for all of them\n",
    "expertises = [\"Stars\", \"Galaxies\", \"Black Holes\", \"Neutron Stars\", \n",
    "             \"Planets\", \"Cosmology\", \"Gas and Dust\", \"Aliens\", \"Education\"]\n",
    "\n",
    "area_of_expertise_1 = np.random.choice(expertises, size=last_names.shape[0])\n",
    "area_of_expertise_2 = np.random.choice(expertises, size=last_names.shape[0])\n",
    "area_of_expertise_3 = np.random.choice(expertises, size=last_names.shape[0])\n"
   ]
  },
  {
   "cell_type": "code",
   "execution_count": 25,
   "metadata": {
    "collapsed": false
   },
   "outputs": [],
   "source": [
    "## set up session dates and times\n",
    "dates = [\"10/04/2015\", \"10/05/2015\", \"10/06/2015\"]\n",
    "session_times = [\"9:00:00 AM,10:30:00 PM\",\n",
    "                 \"11:00:00 AM,12:30:00 PM\",\n",
    "                 \"2:00:00 PM,3:30:00 PM\"]\n",
    "\n",
    "session_date = np.random.choice(dates, size=last_names.shape[0])\n",
    "session_times = np.random.choice(session_times, size=last_names.shape[0])\n"
   ]
  },
  {
   "cell_type": "code",
   "execution_count": 26,
   "metadata": {
    "collapsed": false
   },
   "outputs": [],
   "source": [
    "session_start = [s.split(\",\")[0] for s in session_times]\n",
    "session_end =  [s.split(\",\")[1] for s in session_times]"
   ]
  },
  {
   "cell_type": "markdown",
   "metadata": {},
   "source": [
    "Now we can set up a DataFrame:"
   ]
  },
  {
   "cell_type": "code",
   "execution_count": 36,
   "metadata": {
    "collapsed": false
   },
   "outputs": [],
   "source": [
    "df_dict = {\"last_name\":last_names,\n",
    "          \"first_name\":first_names,\n",
    "          \"area_of_expertise_1\":area_of_expertise_1,\n",
    "          \"area_of_expertise_2\":area_of_expertise_2,\n",
    "          \"area_of_expertise_3\":area_of_expertise_3,\n",
    "          \"session_date\":session_date,\n",
    "          \"session_start\":session_start,\n",
    "          \"session_end\": session_end\n",
    "          }\n",
    "\n",
    "df = pd.DataFrame(df_dict)"
   ]
  },
  {
   "cell_type": "code",
   "execution_count": 37,
   "metadata": {
    "collapsed": false
   },
   "outputs": [
    {
     "data": {
      "text/html": [
       "<div>\n",
       "<table border=\"1\" class=\"dataframe\">\n",
       "  <thead>\n",
       "    <tr style=\"text-align: right;\">\n",
       "      <th></th>\n",
       "      <th>area_of_expertise_1</th>\n",
       "      <th>area_of_expertise_2</th>\n",
       "      <th>area_of_expertise_3</th>\n",
       "      <th>first_name</th>\n",
       "      <th>last_name</th>\n",
       "      <th>session_date</th>\n",
       "      <th>session_end</th>\n",
       "      <th>session_start</th>\n",
       "    </tr>\n",
       "  </thead>\n",
       "  <tbody>\n",
       "    <tr>\n",
       "      <th>0</th>\n",
       "      <td>Gas and Dust</td>\n",
       "      <td>Neutron Stars</td>\n",
       "      <td>Stars</td>\n",
       "      <td>Alan</td>\n",
       "      <td>Pierce</td>\n",
       "      <td>10/06/2015</td>\n",
       "      <td>12:30:00 PM</td>\n",
       "      <td>11:00:00 AM</td>\n",
       "    </tr>\n",
       "    <tr>\n",
       "      <th>1</th>\n",
       "      <td>Aliens</td>\n",
       "      <td>Stars</td>\n",
       "      <td>Planets</td>\n",
       "      <td>Thomas</td>\n",
       "      <td>Viveiros</td>\n",
       "      <td>10/04/2015</td>\n",
       "      <td>3:30:00 PM</td>\n",
       "      <td>2:00:00 PM</td>\n",
       "    </tr>\n",
       "    <tr>\n",
       "      <th>2</th>\n",
       "      <td>Cosmology</td>\n",
       "      <td>Neutron Stars</td>\n",
       "      <td>Black Holes</td>\n",
       "      <td>Anna</td>\n",
       "      <td>Stafford</td>\n",
       "      <td>10/05/2015</td>\n",
       "      <td>10:30:00 PM</td>\n",
       "      <td>9:00:00 AM</td>\n",
       "    </tr>\n",
       "    <tr>\n",
       "      <th>3</th>\n",
       "      <td>Aliens</td>\n",
       "      <td>Planets</td>\n",
       "      <td>Black Holes</td>\n",
       "      <td>Edward</td>\n",
       "      <td>Cook</td>\n",
       "      <td>10/05/2015</td>\n",
       "      <td>12:30:00 PM</td>\n",
       "      <td>11:00:00 AM</td>\n",
       "    </tr>\n",
       "    <tr>\n",
       "      <th>4</th>\n",
       "      <td>Neutron Stars</td>\n",
       "      <td>Cosmology</td>\n",
       "      <td>Gas and Dust</td>\n",
       "      <td>Addie</td>\n",
       "      <td>Levine</td>\n",
       "      <td>10/05/2015</td>\n",
       "      <td>3:30:00 PM</td>\n",
       "      <td>2:00:00 PM</td>\n",
       "    </tr>\n",
       "  </tbody>\n",
       "</table>\n",
       "</div>"
      ],
      "text/plain": [
       "  area_of_expertise_1 area_of_expertise_2 area_of_expertise_3 first_name  \\\n",
       "0        Gas and Dust       Neutron Stars               Stars       Alan   \n",
       "1              Aliens               Stars             Planets     Thomas   \n",
       "2           Cosmology       Neutron Stars         Black Holes       Anna   \n",
       "3              Aliens             Planets         Black Holes     Edward   \n",
       "4       Neutron Stars           Cosmology        Gas and Dust      Addie   \n",
       "\n",
       "  last_name session_date  session_end session_start  \n",
       "0    Pierce   10/06/2015  12:30:00 PM   11:00:00 AM  \n",
       "1  Viveiros   10/04/2015   3:30:00 PM    2:00:00 PM  \n",
       "2  Stafford   10/05/2015  10:30:00 PM    9:00:00 AM  \n",
       "3      Cook   10/05/2015  12:30:00 PM   11:00:00 AM  \n",
       "4    Levine   10/05/2015   3:30:00 PM    2:00:00 PM  "
      ]
     },
     "execution_count": 37,
     "metadata": {},
     "output_type": "execute_result"
    }
   ],
   "source": [
    "df.head()"
   ]
  },
  {
   "cell_type": "markdown",
   "metadata": {},
   "source": [
    "Let's dump this into a `.csv` file for future use:"
   ]
  },
  {
   "cell_type": "code",
   "execution_count": 38,
   "metadata": {
    "collapsed": true
   },
   "outputs": [],
   "source": [
    "df.to_csv(\"example_chairs.csv\",index=False,index_label=\"Index\")"
   ]
  },
  {
   "cell_type": "markdown",
   "metadata": {},
   "source": [
    "### Selecting a Chair for a Session\n",
    "\n",
    "Imagine you have a session on black holes and neutron stars, which will take place on 10/05/2015 from 2:00:00 PM to 3:30:00 PM. \n",
    "\n",
    "You'd like to pick a person from your sample of possible chairs who has the right expertise, but also does *not* give a talk in that session.\n",
    "\n",
    "Let's first load some sample data. As shown above, that data was randomly generated, so all names should be fictitious. All similarities to living or dead persons is entirely coincidental.\n"
   ]
  },
  {
   "cell_type": "code",
   "execution_count": 39,
   "metadata": {
    "collapsed": true
   },
   "outputs": [],
   "source": [
    "df = pd.read_csv(\"example_chairs.csv\")"
   ]
  },
  {
   "cell_type": "markdown",
   "metadata": {},
   "source": [
    "What does this table look like?"
   ]
  },
  {
   "cell_type": "code",
   "execution_count": 40,
   "metadata": {
    "collapsed": false
   },
   "outputs": [
    {
     "data": {
      "text/html": [
       "<div>\n",
       "<table border=\"1\" class=\"dataframe\">\n",
       "  <thead>\n",
       "    <tr style=\"text-align: right;\">\n",
       "      <th></th>\n",
       "      <th>area_of_expertise_1</th>\n",
       "      <th>area_of_expertise_2</th>\n",
       "      <th>area_of_expertise_3</th>\n",
       "      <th>first_name</th>\n",
       "      <th>last_name</th>\n",
       "      <th>session_date</th>\n",
       "      <th>session_end</th>\n",
       "      <th>session_start</th>\n",
       "    </tr>\n",
       "  </thead>\n",
       "  <tbody>\n",
       "    <tr>\n",
       "      <th>0</th>\n",
       "      <td>Gas and Dust</td>\n",
       "      <td>Neutron Stars</td>\n",
       "      <td>Stars</td>\n",
       "      <td>Alan</td>\n",
       "      <td>Pierce</td>\n",
       "      <td>10/06/2015</td>\n",
       "      <td>12:30:00 PM</td>\n",
       "      <td>11:00:00 AM</td>\n",
       "    </tr>\n",
       "    <tr>\n",
       "      <th>1</th>\n",
       "      <td>Aliens</td>\n",
       "      <td>Stars</td>\n",
       "      <td>Planets</td>\n",
       "      <td>Thomas</td>\n",
       "      <td>Viveiros</td>\n",
       "      <td>10/04/2015</td>\n",
       "      <td>3:30:00 PM</td>\n",
       "      <td>2:00:00 PM</td>\n",
       "    </tr>\n",
       "    <tr>\n",
       "      <th>2</th>\n",
       "      <td>Cosmology</td>\n",
       "      <td>Neutron Stars</td>\n",
       "      <td>Black Holes</td>\n",
       "      <td>Anna</td>\n",
       "      <td>Stafford</td>\n",
       "      <td>10/05/2015</td>\n",
       "      <td>10:30:00 PM</td>\n",
       "      <td>9:00:00 AM</td>\n",
       "    </tr>\n",
       "    <tr>\n",
       "      <th>3</th>\n",
       "      <td>Aliens</td>\n",
       "      <td>Planets</td>\n",
       "      <td>Black Holes</td>\n",
       "      <td>Edward</td>\n",
       "      <td>Cook</td>\n",
       "      <td>10/05/2015</td>\n",
       "      <td>12:30:00 PM</td>\n",
       "      <td>11:00:00 AM</td>\n",
       "    </tr>\n",
       "    <tr>\n",
       "      <th>4</th>\n",
       "      <td>Neutron Stars</td>\n",
       "      <td>Cosmology</td>\n",
       "      <td>Gas and Dust</td>\n",
       "      <td>Addie</td>\n",
       "      <td>Levine</td>\n",
       "      <td>10/05/2015</td>\n",
       "      <td>3:30:00 PM</td>\n",
       "      <td>2:00:00 PM</td>\n",
       "    </tr>\n",
       "  </tbody>\n",
       "</table>\n",
       "</div>"
      ],
      "text/plain": [
       "  area_of_expertise_1 area_of_expertise_2 area_of_expertise_3 first_name  \\\n",
       "0        Gas and Dust       Neutron Stars               Stars       Alan   \n",
       "1              Aliens               Stars             Planets     Thomas   \n",
       "2           Cosmology       Neutron Stars         Black Holes       Anna   \n",
       "3              Aliens             Planets         Black Holes     Edward   \n",
       "4       Neutron Stars           Cosmology        Gas and Dust      Addie   \n",
       "\n",
       "  last_name session_date  session_end session_start  \n",
       "0    Pierce   10/06/2015  12:30:00 PM   11:00:00 AM  \n",
       "1  Viveiros   10/04/2015   3:30:00 PM    2:00:00 PM  \n",
       "2  Stafford   10/05/2015  10:30:00 PM    9:00:00 AM  \n",
       "3      Cook   10/05/2015  12:30:00 PM   11:00:00 AM  \n",
       "4    Levine   10/05/2015   3:30:00 PM    2:00:00 PM  "
      ]
     },
     "execution_count": 40,
     "metadata": {},
     "output_type": "execute_result"
    }
   ],
   "source": [
    "df.head()"
   ]
  },
  {
   "cell_type": "markdown",
   "metadata": {},
   "source": [
    "Your table might have more columns, but it needs to have at least the ones above.\n",
    "You can easily export it from, for example, Excel into a .csv file, which Pandas can read.\n",
    "\n",
    "Two important things to note:\n",
    "* Your table might have NaN values (e.g. if a person does not give a talk at all). That's fine.\n",
    "* Apple's Numbers and Microsoft's Excel count from 1, and also count the header row. Pandas DataFrames don't, which means that the number in the index column of the DataFrame may be two lower than the column in whatever form you might be using for any given column. \n",
    "We will fix this by adding 2 to the index column, but if your software does something different, you might want to change that!"
   ]
  },
  {
   "cell_type": "code",
   "execution_count": 41,
   "metadata": {
    "collapsed": true
   },
   "outputs": [],
   "source": [
    "df.index += 2"
   ]
  },
  {
   "cell_type": "code",
   "execution_count": 42,
   "metadata": {
    "collapsed": false
   },
   "outputs": [
    {
     "data": {
      "text/html": [
       "<div>\n",
       "<table border=\"1\" class=\"dataframe\">\n",
       "  <thead>\n",
       "    <tr style=\"text-align: right;\">\n",
       "      <th></th>\n",
       "      <th>area_of_expertise_1</th>\n",
       "      <th>area_of_expertise_2</th>\n",
       "      <th>area_of_expertise_3</th>\n",
       "      <th>first_name</th>\n",
       "      <th>last_name</th>\n",
       "      <th>session_date</th>\n",
       "      <th>session_end</th>\n",
       "      <th>session_start</th>\n",
       "    </tr>\n",
       "  </thead>\n",
       "  <tbody>\n",
       "    <tr>\n",
       "      <th>2</th>\n",
       "      <td>Gas and Dust</td>\n",
       "      <td>Neutron Stars</td>\n",
       "      <td>Stars</td>\n",
       "      <td>Alan</td>\n",
       "      <td>Pierce</td>\n",
       "      <td>10/06/2015</td>\n",
       "      <td>12:30:00 PM</td>\n",
       "      <td>11:00:00 AM</td>\n",
       "    </tr>\n",
       "    <tr>\n",
       "      <th>3</th>\n",
       "      <td>Aliens</td>\n",
       "      <td>Stars</td>\n",
       "      <td>Planets</td>\n",
       "      <td>Thomas</td>\n",
       "      <td>Viveiros</td>\n",
       "      <td>10/04/2015</td>\n",
       "      <td>3:30:00 PM</td>\n",
       "      <td>2:00:00 PM</td>\n",
       "    </tr>\n",
       "    <tr>\n",
       "      <th>4</th>\n",
       "      <td>Cosmology</td>\n",
       "      <td>Neutron Stars</td>\n",
       "      <td>Black Holes</td>\n",
       "      <td>Anna</td>\n",
       "      <td>Stafford</td>\n",
       "      <td>10/05/2015</td>\n",
       "      <td>10:30:00 PM</td>\n",
       "      <td>9:00:00 AM</td>\n",
       "    </tr>\n",
       "    <tr>\n",
       "      <th>5</th>\n",
       "      <td>Aliens</td>\n",
       "      <td>Planets</td>\n",
       "      <td>Black Holes</td>\n",
       "      <td>Edward</td>\n",
       "      <td>Cook</td>\n",
       "      <td>10/05/2015</td>\n",
       "      <td>12:30:00 PM</td>\n",
       "      <td>11:00:00 AM</td>\n",
       "    </tr>\n",
       "    <tr>\n",
       "      <th>6</th>\n",
       "      <td>Neutron Stars</td>\n",
       "      <td>Cosmology</td>\n",
       "      <td>Gas and Dust</td>\n",
       "      <td>Addie</td>\n",
       "      <td>Levine</td>\n",
       "      <td>10/05/2015</td>\n",
       "      <td>3:30:00 PM</td>\n",
       "      <td>2:00:00 PM</td>\n",
       "    </tr>\n",
       "  </tbody>\n",
       "</table>\n",
       "</div>"
      ],
      "text/plain": [
       "  area_of_expertise_1 area_of_expertise_2 area_of_expertise_3 first_name  \\\n",
       "2        Gas and Dust       Neutron Stars               Stars       Alan   \n",
       "3              Aliens               Stars             Planets     Thomas   \n",
       "4           Cosmology       Neutron Stars         Black Holes       Anna   \n",
       "5              Aliens             Planets         Black Holes     Edward   \n",
       "6       Neutron Stars           Cosmology        Gas and Dust      Addie   \n",
       "\n",
       "  last_name session_date  session_end session_start  \n",
       "2    Pierce   10/06/2015  12:30:00 PM   11:00:00 AM  \n",
       "3  Viveiros   10/04/2015   3:30:00 PM    2:00:00 PM  \n",
       "4  Stafford   10/05/2015  10:30:00 PM    9:00:00 AM  \n",
       "5      Cook   10/05/2015  12:30:00 PM   11:00:00 AM  \n",
       "6    Levine   10/05/2015   3:30:00 PM    2:00:00 PM  "
      ]
     },
     "execution_count": 42,
     "metadata": {},
     "output_type": "execute_result"
    }
   ],
   "source": [
    "df.head()"
   ]
  },
  {
   "cell_type": "markdown",
   "metadata": {},
   "source": [
    "Okay, so now we have the data!\n",
    "\n",
    "Let's get out some column to make our queries look easier:\n"
   ]
  },
  {
   "cell_type": "code",
   "execution_count": 44,
   "metadata": {
    "collapsed": true
   },
   "outputs": [],
   "source": [
    "area1 = df[\"area_of_expertise_1\"]\n",
    "area2 = df[\"area_of_expertise_2\"]\n",
    "area3 = df[\"area_of_expertise_3\"]\n",
    "\n",
    "session_date = df[\"session_date\"]\n",
    "session_start = df[\"session_start\"]\n",
    "session_end = df[\"session_end\"]"
   ]
  },
  {
   "cell_type": "markdown",
   "metadata": {},
   "source": [
    "First task: let's pick a person whose first expertise is black holes"
   ]
  },
  {
   "cell_type": "code",
   "execution_count": 45,
   "metadata": {
    "collapsed": false
   },
   "outputs": [],
   "source": [
    "## Extrasolar Planets, Theory 1\n",
    "black_holes = df[((area1 == \"Black Holes\") & (\n",
    "                 ((session_date == \"10/05/2015\") & \n",
    "                            (session_start != \"2:00:00 PM\") & \n",
    "                            (session_end != \"3:30:00 PM\")) |\n",
    "                      (session_date != \"10/05/2015\")))]\n",
    "\n"
   ]
  },
  {
   "cell_type": "markdown",
   "metadata": {},
   "source": [
    "The query above basically says the following:\n",
    "\n",
    "\"Pick all participants whose value for \"area1\" is \"Black Holes\", and who either do \n",
    "not give a talk on the date \"10/05/2015\" at all or who give a talk on \"10/05/2015\", but not \n",
    "between \"2:00:00 PM\" and \"3:30:00 PM\".\n",
    "\n",
    "**Note:** Make sure that the strings you use in your query match *exactly* the entries in your table!\n",
    "\n",
    "Here's the resulting list:"
   ]
  },
  {
   "cell_type": "code",
   "execution_count": 47,
   "metadata": {
    "collapsed": false
   },
   "outputs": [
    {
     "data": {
      "text/html": [
       "<div>\n",
       "<table border=\"1\" class=\"dataframe\">\n",
       "  <thead>\n",
       "    <tr style=\"text-align: right;\">\n",
       "      <th></th>\n",
       "      <th>area_of_expertise_1</th>\n",
       "      <th>area_of_expertise_2</th>\n",
       "      <th>area_of_expertise_3</th>\n",
       "      <th>first_name</th>\n",
       "      <th>last_name</th>\n",
       "      <th>session_date</th>\n",
       "      <th>session_end</th>\n",
       "      <th>session_start</th>\n",
       "    </tr>\n",
       "  </thead>\n",
       "  <tbody>\n",
       "    <tr>\n",
       "      <th>21</th>\n",
       "      <td>Black Holes</td>\n",
       "      <td>Stars</td>\n",
       "      <td>Gas and Dust</td>\n",
       "      <td>Andrew</td>\n",
       "      <td>Reaume</td>\n",
       "      <td>10/05/2015</td>\n",
       "      <td>12:30:00 PM</td>\n",
       "      <td>11:00:00 AM</td>\n",
       "    </tr>\n",
       "    <tr>\n",
       "      <th>57</th>\n",
       "      <td>Black Holes</td>\n",
       "      <td>Cosmology</td>\n",
       "      <td>Planets</td>\n",
       "      <td>Mechelle</td>\n",
       "      <td>Kirk</td>\n",
       "      <td>10/06/2015</td>\n",
       "      <td>3:30:00 PM</td>\n",
       "      <td>2:00:00 PM</td>\n",
       "    </tr>\n",
       "    <tr>\n",
       "      <th>60</th>\n",
       "      <td>Black Holes</td>\n",
       "      <td>Neutron Stars</td>\n",
       "      <td>Gas and Dust</td>\n",
       "      <td>James</td>\n",
       "      <td>Cecere</td>\n",
       "      <td>10/04/2015</td>\n",
       "      <td>12:30:00 PM</td>\n",
       "      <td>11:00:00 AM</td>\n",
       "    </tr>\n",
       "    <tr>\n",
       "      <th>62</th>\n",
       "      <td>Black Holes</td>\n",
       "      <td>Stars</td>\n",
       "      <td>Cosmology</td>\n",
       "      <td>Daphne</td>\n",
       "      <td>Kelleher</td>\n",
       "      <td>10/04/2015</td>\n",
       "      <td>12:30:00 PM</td>\n",
       "      <td>11:00:00 AM</td>\n",
       "    </tr>\n",
       "    <tr>\n",
       "      <th>74</th>\n",
       "      <td>Black Holes</td>\n",
       "      <td>Aliens</td>\n",
       "      <td>Planets</td>\n",
       "      <td>Christopher</td>\n",
       "      <td>Cerda</td>\n",
       "      <td>10/05/2015</td>\n",
       "      <td>12:30:00 PM</td>\n",
       "      <td>11:00:00 AM</td>\n",
       "    </tr>\n",
       "    <tr>\n",
       "      <th>85</th>\n",
       "      <td>Black Holes</td>\n",
       "      <td>Gas and Dust</td>\n",
       "      <td>Stars</td>\n",
       "      <td>Kim</td>\n",
       "      <td>Gray</td>\n",
       "      <td>10/05/2015</td>\n",
       "      <td>10:30:00 PM</td>\n",
       "      <td>9:00:00 AM</td>\n",
       "    </tr>\n",
       "    <tr>\n",
       "      <th>87</th>\n",
       "      <td>Black Holes</td>\n",
       "      <td>Stars</td>\n",
       "      <td>Gas and Dust</td>\n",
       "      <td>Linda</td>\n",
       "      <td>Reeves</td>\n",
       "      <td>10/04/2015</td>\n",
       "      <td>3:30:00 PM</td>\n",
       "      <td>2:00:00 PM</td>\n",
       "    </tr>\n",
       "    <tr>\n",
       "      <th>88</th>\n",
       "      <td>Black Holes</td>\n",
       "      <td>Planets</td>\n",
       "      <td>Cosmology</td>\n",
       "      <td>Raymond</td>\n",
       "      <td>Henderson</td>\n",
       "      <td>10/06/2015</td>\n",
       "      <td>10:30:00 PM</td>\n",
       "      <td>9:00:00 AM</td>\n",
       "    </tr>\n",
       "  </tbody>\n",
       "</table>\n",
       "</div>"
      ],
      "text/plain": [
       "   area_of_expertise_1 area_of_expertise_2 area_of_expertise_3   first_name  \\\n",
       "21         Black Holes               Stars        Gas and Dust       Andrew   \n",
       "57         Black Holes           Cosmology             Planets     Mechelle   \n",
       "60         Black Holes       Neutron Stars        Gas and Dust        James   \n",
       "62         Black Holes               Stars           Cosmology       Daphne   \n",
       "74         Black Holes              Aliens             Planets  Christopher   \n",
       "85         Black Holes        Gas and Dust               Stars          Kim   \n",
       "87         Black Holes               Stars        Gas and Dust        Linda   \n",
       "88         Black Holes             Planets           Cosmology      Raymond   \n",
       "\n",
       "    last_name session_date  session_end session_start  \n",
       "21     Reaume   10/05/2015  12:30:00 PM   11:00:00 AM  \n",
       "57       Kirk   10/06/2015   3:30:00 PM    2:00:00 PM  \n",
       "60     Cecere   10/04/2015  12:30:00 PM   11:00:00 AM  \n",
       "62   Kelleher   10/04/2015  12:30:00 PM   11:00:00 AM  \n",
       "74      Cerda   10/05/2015  12:30:00 PM   11:00:00 AM  \n",
       "85       Gray   10/05/2015  10:30:00 PM    9:00:00 AM  \n",
       "87     Reeves   10/04/2015   3:30:00 PM    2:00:00 PM  \n",
       "88  Henderson   10/06/2015  10:30:00 PM    9:00:00 AM  "
      ]
     },
     "execution_count": 47,
     "metadata": {},
     "output_type": "execute_result"
    }
   ],
   "source": [
    "black_holes"
   ]
  },
  {
   "cell_type": "markdown",
   "metadata": {},
   "source": [
    "If you want a random sample from that list, here is your solution:"
   ]
  },
  {
   "cell_type": "code",
   "execution_count": 48,
   "metadata": {
    "collapsed": false
   },
   "outputs": [
    {
     "data": {
      "text/plain": [
       "area_of_expertise_1    Black Holes\n",
       "area_of_expertise_2      Cosmology\n",
       "area_of_expertise_3        Planets\n",
       "first_name                Mechelle\n",
       "last_name                     Kirk\n",
       "session_date            10/06/2015\n",
       "session_end             3:30:00 PM\n",
       "session_start           2:00:00 PM\n",
       "Name: 57, dtype: object"
      ]
     },
     "execution_count": 48,
     "metadata": {},
     "output_type": "execute_result"
    }
   ],
   "source": [
    "black_holes.loc[np.random.choice(np.array(black_holes.index))]"
   ]
  },
  {
   "cell_type": "markdown",
   "metadata": {},
   "source": [
    "We can make our query more complex. For example, because our session is about both neutron stars and black holes, we might be happy with anyone whose expertise is either in neutron stars or black holes:"
   ]
  },
  {
   "cell_type": "code",
   "execution_count": 49,
   "metadata": {
    "collapsed": true
   },
   "outputs": [],
   "source": [
    "## Extrasolar Planets, Theory 1\n",
    "black_holes = df[(((area1 == \"Black Holes\") | (area1 == \"Neutron Stars\")) & (\n",
    "                 ((session_date == \"10/05/2015\") & \n",
    "                            (session_start != \"2:00:00 PM\") & \n",
    "                            (session_end != \"3:30:00 PM\")) |\n",
    "                      (session_date != \"10/05/2015\")))]\n",
    "\n"
   ]
  },
  {
   "cell_type": "code",
   "execution_count": 51,
   "metadata": {
    "collapsed": false
   },
   "outputs": [
    {
     "data": {
      "text/html": [
       "<div>\n",
       "<table border=\"1\" class=\"dataframe\">\n",
       "  <thead>\n",
       "    <tr style=\"text-align: right;\">\n",
       "      <th></th>\n",
       "      <th>area_of_expertise_1</th>\n",
       "      <th>area_of_expertise_2</th>\n",
       "      <th>area_of_expertise_3</th>\n",
       "      <th>first_name</th>\n",
       "      <th>last_name</th>\n",
       "      <th>session_date</th>\n",
       "      <th>session_end</th>\n",
       "      <th>session_start</th>\n",
       "    </tr>\n",
       "  </thead>\n",
       "  <tbody>\n",
       "    <tr>\n",
       "      <th>13</th>\n",
       "      <td>Neutron Stars</td>\n",
       "      <td>Aliens</td>\n",
       "      <td>Black Holes</td>\n",
       "      <td>Rick</td>\n",
       "      <td>Hoffman</td>\n",
       "      <td>10/06/2015</td>\n",
       "      <td>12:30:00 PM</td>\n",
       "      <td>11:00:00 AM</td>\n",
       "    </tr>\n",
       "    <tr>\n",
       "      <th>21</th>\n",
       "      <td>Black Holes</td>\n",
       "      <td>Stars</td>\n",
       "      <td>Gas and Dust</td>\n",
       "      <td>Andrew</td>\n",
       "      <td>Reaume</td>\n",
       "      <td>10/05/2015</td>\n",
       "      <td>12:30:00 PM</td>\n",
       "      <td>11:00:00 AM</td>\n",
       "    </tr>\n",
       "    <tr>\n",
       "      <th>24</th>\n",
       "      <td>Neutron Stars</td>\n",
       "      <td>Neutron Stars</td>\n",
       "      <td>Neutron Stars</td>\n",
       "      <td>Donald</td>\n",
       "      <td>Rundlett</td>\n",
       "      <td>10/04/2015</td>\n",
       "      <td>3:30:00 PM</td>\n",
       "      <td>2:00:00 PM</td>\n",
       "    </tr>\n",
       "    <tr>\n",
       "      <th>32</th>\n",
       "      <td>Neutron Stars</td>\n",
       "      <td>Planets</td>\n",
       "      <td>Aliens</td>\n",
       "      <td>Jessica</td>\n",
       "      <td>Hao</td>\n",
       "      <td>10/05/2015</td>\n",
       "      <td>10:30:00 PM</td>\n",
       "      <td>9:00:00 AM</td>\n",
       "    </tr>\n",
       "    <tr>\n",
       "      <th>41</th>\n",
       "      <td>Neutron Stars</td>\n",
       "      <td>Galaxies</td>\n",
       "      <td>Planets</td>\n",
       "      <td>Lorena</td>\n",
       "      <td>Medeiros</td>\n",
       "      <td>10/06/2015</td>\n",
       "      <td>3:30:00 PM</td>\n",
       "      <td>2:00:00 PM</td>\n",
       "    </tr>\n",
       "    <tr>\n",
       "      <th>57</th>\n",
       "      <td>Black Holes</td>\n",
       "      <td>Cosmology</td>\n",
       "      <td>Planets</td>\n",
       "      <td>Mechelle</td>\n",
       "      <td>Kirk</td>\n",
       "      <td>10/06/2015</td>\n",
       "      <td>3:30:00 PM</td>\n",
       "      <td>2:00:00 PM</td>\n",
       "    </tr>\n",
       "    <tr>\n",
       "      <th>60</th>\n",
       "      <td>Black Holes</td>\n",
       "      <td>Neutron Stars</td>\n",
       "      <td>Gas and Dust</td>\n",
       "      <td>James</td>\n",
       "      <td>Cecere</td>\n",
       "      <td>10/04/2015</td>\n",
       "      <td>12:30:00 PM</td>\n",
       "      <td>11:00:00 AM</td>\n",
       "    </tr>\n",
       "    <tr>\n",
       "      <th>62</th>\n",
       "      <td>Black Holes</td>\n",
       "      <td>Stars</td>\n",
       "      <td>Cosmology</td>\n",
       "      <td>Daphne</td>\n",
       "      <td>Kelleher</td>\n",
       "      <td>10/04/2015</td>\n",
       "      <td>12:30:00 PM</td>\n",
       "      <td>11:00:00 AM</td>\n",
       "    </tr>\n",
       "    <tr>\n",
       "      <th>63</th>\n",
       "      <td>Neutron Stars</td>\n",
       "      <td>Stars</td>\n",
       "      <td>Cosmology</td>\n",
       "      <td>Edward</td>\n",
       "      <td>Tester</td>\n",
       "      <td>10/05/2015</td>\n",
       "      <td>10:30:00 PM</td>\n",
       "      <td>9:00:00 AM</td>\n",
       "    </tr>\n",
       "    <tr>\n",
       "      <th>64</th>\n",
       "      <td>Neutron Stars</td>\n",
       "      <td>Aliens</td>\n",
       "      <td>Education</td>\n",
       "      <td>Robert</td>\n",
       "      <td>Gilbert</td>\n",
       "      <td>10/05/2015</td>\n",
       "      <td>10:30:00 PM</td>\n",
       "      <td>9:00:00 AM</td>\n",
       "    </tr>\n",
       "    <tr>\n",
       "      <th>65</th>\n",
       "      <td>Neutron Stars</td>\n",
       "      <td>Stars</td>\n",
       "      <td>Education</td>\n",
       "      <td>Daniel</td>\n",
       "      <td>Keating</td>\n",
       "      <td>10/04/2015</td>\n",
       "      <td>3:30:00 PM</td>\n",
       "      <td>2:00:00 PM</td>\n",
       "    </tr>\n",
       "    <tr>\n",
       "      <th>66</th>\n",
       "      <td>Neutron Stars</td>\n",
       "      <td>Cosmology</td>\n",
       "      <td>Neutron Stars</td>\n",
       "      <td>Steve</td>\n",
       "      <td>Potter</td>\n",
       "      <td>10/05/2015</td>\n",
       "      <td>10:30:00 PM</td>\n",
       "      <td>9:00:00 AM</td>\n",
       "    </tr>\n",
       "    <tr>\n",
       "      <th>68</th>\n",
       "      <td>Neutron Stars</td>\n",
       "      <td>Aliens</td>\n",
       "      <td>Cosmology</td>\n",
       "      <td>Lacy</td>\n",
       "      <td>Holder</td>\n",
       "      <td>10/04/2015</td>\n",
       "      <td>10:30:00 PM</td>\n",
       "      <td>9:00:00 AM</td>\n",
       "    </tr>\n",
       "    <tr>\n",
       "      <th>69</th>\n",
       "      <td>Neutron Stars</td>\n",
       "      <td>Gas and Dust</td>\n",
       "      <td>Gas and Dust</td>\n",
       "      <td>Margaret</td>\n",
       "      <td>Waggoner</td>\n",
       "      <td>10/06/2015</td>\n",
       "      <td>12:30:00 PM</td>\n",
       "      <td>11:00:00 AM</td>\n",
       "    </tr>\n",
       "    <tr>\n",
       "      <th>74</th>\n",
       "      <td>Black Holes</td>\n",
       "      <td>Aliens</td>\n",
       "      <td>Planets</td>\n",
       "      <td>Christopher</td>\n",
       "      <td>Cerda</td>\n",
       "      <td>10/05/2015</td>\n",
       "      <td>12:30:00 PM</td>\n",
       "      <td>11:00:00 AM</td>\n",
       "    </tr>\n",
       "    <tr>\n",
       "      <th>85</th>\n",
       "      <td>Black Holes</td>\n",
       "      <td>Gas and Dust</td>\n",
       "      <td>Stars</td>\n",
       "      <td>Kim</td>\n",
       "      <td>Gray</td>\n",
       "      <td>10/05/2015</td>\n",
       "      <td>10:30:00 PM</td>\n",
       "      <td>9:00:00 AM</td>\n",
       "    </tr>\n",
       "    <tr>\n",
       "      <th>87</th>\n",
       "      <td>Black Holes</td>\n",
       "      <td>Stars</td>\n",
       "      <td>Gas and Dust</td>\n",
       "      <td>Linda</td>\n",
       "      <td>Reeves</td>\n",
       "      <td>10/04/2015</td>\n",
       "      <td>3:30:00 PM</td>\n",
       "      <td>2:00:00 PM</td>\n",
       "    </tr>\n",
       "    <tr>\n",
       "      <th>88</th>\n",
       "      <td>Black Holes</td>\n",
       "      <td>Planets</td>\n",
       "      <td>Cosmology</td>\n",
       "      <td>Raymond</td>\n",
       "      <td>Henderson</td>\n",
       "      <td>10/06/2015</td>\n",
       "      <td>10:30:00 PM</td>\n",
       "      <td>9:00:00 AM</td>\n",
       "    </tr>\n",
       "    <tr>\n",
       "      <th>89</th>\n",
       "      <td>Neutron Stars</td>\n",
       "      <td>Black Holes</td>\n",
       "      <td>Gas and Dust</td>\n",
       "      <td>John</td>\n",
       "      <td>Lothridge</td>\n",
       "      <td>10/06/2015</td>\n",
       "      <td>3:30:00 PM</td>\n",
       "      <td>2:00:00 PM</td>\n",
       "    </tr>\n",
       "    <tr>\n",
       "      <th>94</th>\n",
       "      <td>Neutron Stars</td>\n",
       "      <td>Planets</td>\n",
       "      <td>Aliens</td>\n",
       "      <td>Julie</td>\n",
       "      <td>Young</td>\n",
       "      <td>10/04/2015</td>\n",
       "      <td>12:30:00 PM</td>\n",
       "      <td>11:00:00 AM</td>\n",
       "    </tr>\n",
       "  </tbody>\n",
       "</table>\n",
       "</div>"
      ],
      "text/plain": [
       "   area_of_expertise_1 area_of_expertise_2 area_of_expertise_3   first_name  \\\n",
       "13       Neutron Stars              Aliens         Black Holes         Rick   \n",
       "21         Black Holes               Stars        Gas and Dust       Andrew   \n",
       "24       Neutron Stars       Neutron Stars       Neutron Stars       Donald   \n",
       "32       Neutron Stars             Planets              Aliens      Jessica   \n",
       "41       Neutron Stars            Galaxies             Planets       Lorena   \n",
       "57         Black Holes           Cosmology             Planets     Mechelle   \n",
       "60         Black Holes       Neutron Stars        Gas and Dust        James   \n",
       "62         Black Holes               Stars           Cosmology       Daphne   \n",
       "63       Neutron Stars               Stars           Cosmology       Edward   \n",
       "64       Neutron Stars              Aliens           Education       Robert   \n",
       "65       Neutron Stars               Stars           Education       Daniel   \n",
       "66       Neutron Stars           Cosmology       Neutron Stars        Steve   \n",
       "68       Neutron Stars              Aliens           Cosmology         Lacy   \n",
       "69       Neutron Stars        Gas and Dust        Gas and Dust     Margaret   \n",
       "74         Black Holes              Aliens             Planets  Christopher   \n",
       "85         Black Holes        Gas and Dust               Stars          Kim   \n",
       "87         Black Holes               Stars        Gas and Dust        Linda   \n",
       "88         Black Holes             Planets           Cosmology      Raymond   \n",
       "89       Neutron Stars         Black Holes        Gas and Dust         John   \n",
       "94       Neutron Stars             Planets              Aliens        Julie   \n",
       "\n",
       "    last_name session_date  session_end session_start  \n",
       "13    Hoffman   10/06/2015  12:30:00 PM   11:00:00 AM  \n",
       "21     Reaume   10/05/2015  12:30:00 PM   11:00:00 AM  \n",
       "24   Rundlett   10/04/2015   3:30:00 PM    2:00:00 PM  \n",
       "32        Hao   10/05/2015  10:30:00 PM    9:00:00 AM  \n",
       "41   Medeiros   10/06/2015   3:30:00 PM    2:00:00 PM  \n",
       "57       Kirk   10/06/2015   3:30:00 PM    2:00:00 PM  \n",
       "60     Cecere   10/04/2015  12:30:00 PM   11:00:00 AM  \n",
       "62   Kelleher   10/04/2015  12:30:00 PM   11:00:00 AM  \n",
       "63     Tester   10/05/2015  10:30:00 PM    9:00:00 AM  \n",
       "64    Gilbert   10/05/2015  10:30:00 PM    9:00:00 AM  \n",
       "65    Keating   10/04/2015   3:30:00 PM    2:00:00 PM  \n",
       "66     Potter   10/05/2015  10:30:00 PM    9:00:00 AM  \n",
       "68     Holder   10/04/2015  10:30:00 PM    9:00:00 AM  \n",
       "69   Waggoner   10/06/2015  12:30:00 PM   11:00:00 AM  \n",
       "74      Cerda   10/05/2015  12:30:00 PM   11:00:00 AM  \n",
       "85       Gray   10/05/2015  10:30:00 PM    9:00:00 AM  \n",
       "87     Reeves   10/04/2015   3:30:00 PM    2:00:00 PM  \n",
       "88  Henderson   10/06/2015  10:30:00 PM    9:00:00 AM  \n",
       "89  Lothridge   10/06/2015   3:30:00 PM    2:00:00 PM  \n",
       "94      Young   10/04/2015  12:30:00 PM   11:00:00 AM  "
      ]
     },
     "execution_count": 51,
     "metadata": {},
     "output_type": "execute_result"
    }
   ],
   "source": [
    "black_holes"
   ]
  },
  {
   "cell_type": "markdown",
   "metadata": {},
   "source": [
    "That's a much larger list! We might also want to consider people who have expertise in both! that means that their first area of expertise need to be either black holes or neutron stars *and* their second area of expertise also needs to be either of the two:"
   ]
  },
  {
   "cell_type": "code",
   "execution_count": 52,
   "metadata": {
    "collapsed": true
   },
   "outputs": [],
   "source": [
    "## Extrasolar Planets, Theory 1\n",
    "black_holes = df[(((area1 == \"Black Holes\") | (area1 == \"Neutron Stars\")) &\n",
    "                  ((area2 == \"Black Holes\") | (area2 == \"Neutron Stars\")) &\n",
    "                  (\n",
    "                 ((session_date == \"10/05/2015\") & \n",
    "                            (session_start != \"2:00:00 PM\") & \n",
    "                            (session_end != \"3:30:00 PM\")) |\n",
    "                      (session_date != \"10/05/2015\")))]\n",
    "\n"
   ]
  },
  {
   "cell_type": "code",
   "execution_count": 53,
   "metadata": {
    "collapsed": false
   },
   "outputs": [
    {
     "data": {
      "text/html": [
       "<div>\n",
       "<table border=\"1\" class=\"dataframe\">\n",
       "  <thead>\n",
       "    <tr style=\"text-align: right;\">\n",
       "      <th></th>\n",
       "      <th>area_of_expertise_1</th>\n",
       "      <th>area_of_expertise_2</th>\n",
       "      <th>area_of_expertise_3</th>\n",
       "      <th>first_name</th>\n",
       "      <th>last_name</th>\n",
       "      <th>session_date</th>\n",
       "      <th>session_end</th>\n",
       "      <th>session_start</th>\n",
       "    </tr>\n",
       "  </thead>\n",
       "  <tbody>\n",
       "    <tr>\n",
       "      <th>24</th>\n",
       "      <td>Neutron Stars</td>\n",
       "      <td>Neutron Stars</td>\n",
       "      <td>Neutron Stars</td>\n",
       "      <td>Donald</td>\n",
       "      <td>Rundlett</td>\n",
       "      <td>10/04/2015</td>\n",
       "      <td>3:30:00 PM</td>\n",
       "      <td>2:00:00 PM</td>\n",
       "    </tr>\n",
       "    <tr>\n",
       "      <th>60</th>\n",
       "      <td>Black Holes</td>\n",
       "      <td>Neutron Stars</td>\n",
       "      <td>Gas and Dust</td>\n",
       "      <td>James</td>\n",
       "      <td>Cecere</td>\n",
       "      <td>10/04/2015</td>\n",
       "      <td>12:30:00 PM</td>\n",
       "      <td>11:00:00 AM</td>\n",
       "    </tr>\n",
       "    <tr>\n",
       "      <th>89</th>\n",
       "      <td>Neutron Stars</td>\n",
       "      <td>Black Holes</td>\n",
       "      <td>Gas and Dust</td>\n",
       "      <td>John</td>\n",
       "      <td>Lothridge</td>\n",
       "      <td>10/06/2015</td>\n",
       "      <td>3:30:00 PM</td>\n",
       "      <td>2:00:00 PM</td>\n",
       "    </tr>\n",
       "  </tbody>\n",
       "</table>\n",
       "</div>"
      ],
      "text/plain": [
       "   area_of_expertise_1 area_of_expertise_2 area_of_expertise_3 first_name  \\\n",
       "24       Neutron Stars       Neutron Stars       Neutron Stars     Donald   \n",
       "60         Black Holes       Neutron Stars        Gas and Dust      James   \n",
       "89       Neutron Stars         Black Holes        Gas and Dust       John   \n",
       "\n",
       "    last_name session_date  session_end session_start  \n",
       "24   Rundlett   10/04/2015   3:30:00 PM    2:00:00 PM  \n",
       "60     Cecere   10/04/2015  12:30:00 PM   11:00:00 AM  \n",
       "89  Lothridge   10/06/2015   3:30:00 PM    2:00:00 PM  "
      ]
     },
     "execution_count": 53,
     "metadata": {},
     "output_type": "execute_result"
    }
   ],
   "source": [
    "black_holes"
   ]
  },
  {
   "cell_type": "markdown",
   "metadata": {},
   "source": [
    "And that's about as difficult as our queries get!\n",
    "\n",
    "I've put this entire workflow into a little script (`chair_selection.py`) that should be easy to use. Make sure your csv file with the candidates are in the same folder as the script.\n",
    "\n",
    "Some sample queries:\n",
    "\n",
    "See the help message for the script:\n",
    "    $> python chair_selection.py --help\n",
    "    \n",
    "All candidates whose primary expertise is \"Black Holes\" and who don't give a talk on Oct  5 between 2 and 3 pm:\n",
    "\n",
    "    $> python chair_selection.py -f \"example_chairs.csv\" -a \"Black Holes\" -d \"10/05/2015\" -s \"2:00:00 PM\" -e \"3:30:00 PM\" -m \"all\"\n",
    "\n",
    "One random candidate whose primary expertise is \"Black Holes\" and who don't give a talk on Oct  5 between 2 and 3 pm:\n",
    "\n",
    "    $> python chair_selection.py -f \"example_chairs.csv\" -a \"Black Holes\" -d \"10/05/2015\" -s \"2:00:00 PM\" -e \"3:30:00 PM\" -m \"random\"\n",
    "\n",
    "All candidates whose primary expertise is either \"Black Holes\" or \"Neutron Stars\" and who don't give a talk on Oct 5 2015 between 2 and 3 pm:\n",
    "\n",
    "    $> python chair_selection.py -f \"example_chairs.csv\" -a \"Black Holes\" \"Neutron Stars\" -d \"10/05/2015\" -s \"2:00:00 PM\" -e \"3:30:00 PM\" -m \"all\"\n",
    "    \n",
    "All candidates whose first expertise is either \"Black Holes\" or \"Neutron Stars\" *and* whose second expertise is also \"Black Holes\" and \"Neutron Stars\":\n",
    "\n",
    "    $> python chair_selection.py -f \"example_chairs.csv\" -a \"Black Holes\" \"Neutron Stars\" -d \"10/05/2015\" -s \"2:00:00 PM\" -e \"3:30:00 PM\" -m \"all\" --area2 \"Black Holes\" \"Neutron Stars\"\n",
    "\n",
    "Good luck with selecting your chairs! :)"
   ]
  }
 ],
 "metadata": {
  "kernelspec": {
   "display_name": "Python 2",
   "language": "python",
   "name": "python2"
  },
  "language_info": {
   "codemirror_mode": {
    "name": "ipython",
    "version": 2
   },
   "file_extension": ".py",
   "mimetype": "text/x-python",
   "name": "python",
   "nbconvert_exporter": "python",
   "pygments_lexer": "ipython2",
   "version": "2.7.10"
  }
 },
 "nbformat": 4,
 "nbformat_minor": 0
}
